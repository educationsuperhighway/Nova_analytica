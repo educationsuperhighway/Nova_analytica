{
 "cells": [
  {
   "cell_type": "code",
   "execution_count": 1,
   "id": "4f9e0d94",
   "metadata": {},
   "outputs": [],
   "source": [
    "import pandas as pd"
   ]
  },
  {
   "cell_type": "code",
   "execution_count": 2,
   "id": "7f776059",
   "metadata": {},
   "outputs": [],
   "source": [
    "import os\n",
    "import json\n",
    "wd = os.getcwd()\n",
    "wd_list = wd.split(\"/\")\n",
    "unique_path = \"/\".join(wd_list[1:3])\n",
    "#I have the passwords file saved as 'nothing_to_see_here.json'. Super secure, I know\n",
    "path = \"/\"+unique_path+\"/esh/nothing_to_see_here.json\"\n",
    "#Load json file in .esh and get into creds\n",
    "#This accesses for the db_creds dictionary specifically. Other dicts are available by changing the ref below\n",
    "creds = json.load(open(path))['db_creds']\n",
    "from sqlalchemy import create_engine\n",
    "import os\n",
    "###DONT SHARE WITH LOGIN DETAILS###\n",
    "POSTGRES_ADDRESS = creds['esh_db_address']\n",
    "POSTGRES_PORT =  creds['esh_db_port']\n",
    "POSTGRES_USERNAME = creds['esh_db_username']\n",
    "POSTGRES_PASSWORD = creds['esh_db_password']\n",
    "POSTGRES_DBNAME = creds['esh_db_name']\n",
    "# A long string that contains the necessary Postgres login information\n",
    "postgres_str = ('postgresql://{username}:{password}@{ipaddress}:{port}/{dbname}'.format(username=POSTGRES_USERNAME,\n",
    "                password=POSTGRES_PASSWORD,ipaddress=POSTGRES_ADDRESS,port=POSTGRES_PORT,dbname=POSTGRES_DBNAME))\n",
    "# Create the connection\n",
    "cnx = create_engine(postgres_str)"
   ]
  },
  {
   "cell_type": "code",
   "execution_count": 3,
   "id": "224a5abd",
   "metadata": {},
   "outputs": [
    {
     "data": {
      "text/html": [
       "<div>\n",
       "<style scoped>\n",
       "    .dataframe tbody tr th:only-of-type {\n",
       "        vertical-align: middle;\n",
       "    }\n",
       "\n",
       "    .dataframe tbody tr th {\n",
       "        vertical-align: top;\n",
       "    }\n",
       "\n",
       "    .dataframe thead th {\n",
       "        text-align: right;\n",
       "    }\n",
       "</style>\n",
       "<table border=\"1\" class=\"dataframe\">\n",
       "  <thead>\n",
       "    <tr style=\"text-align: right;\">\n",
       "      <th></th>\n",
       "      <th>households</th>\n",
       "      <th>population</th>\n",
       "      <th>black</th>\n",
       "      <th>latino</th>\n",
       "    </tr>\n",
       "  </thead>\n",
       "  <tbody>\n",
       "    <tr>\n",
       "      <th>0</th>\n",
       "      <td>125207130.0</td>\n",
       "      <td>325173119.0</td>\n",
       "      <td>39986800.0</td>\n",
       "      <td>62988211.0</td>\n",
       "    </tr>\n",
       "  </tbody>\n",
       "</table>\n",
       "</div>"
      ],
      "text/plain": [
       "    households   population       black      latino\n",
       "0  125207130.0  325173119.0  39986800.0  62988211.0"
      ]
     },
     "execution_count": 3,
     "metadata": {},
     "output_type": "execute_result"
    }
   ],
   "source": [
    "#Demographic data at national level\n",
    "\n",
    "query='''\n",
    "\n",
    "SELECT SUM(zu.total_households) as households,\n",
    "       SUM(zr.total_hh_population) as population,\n",
    "       SUM(zr.total_black_or_african_am) AS black,\n",
    "       SUM(zr.hispanic_or_latino_origin_any_race) AS latino\n",
    "FROM dl.zipcode_household_pop_race zr\n",
    "JOIN dl.zip_unconnected zu\n",
    "ON zr.zip=zu.zip AND zr.year=zu.year\n",
    "WHERE zr.year = (SELECT MAX(year) FROM dl.zip_unconnected)\n",
    "'''\n",
    "\n",
    "ddm=pd.read_sql_query(query,cnx)\n",
    "ddm"
   ]
  },
  {
   "cell_type": "code",
   "execution_count": null,
   "id": "8252b569",
   "metadata": {},
   "outputs": [],
   "source": []
  }
 ],
 "metadata": {
  "kernelspec": {
   "display_name": "Python 3 (ipykernel)",
   "language": "python",
   "name": "python3"
  },
  "language_info": {
   "codemirror_mode": {
    "name": "ipython",
    "version": 3
   },
   "file_extension": ".py",
   "mimetype": "text/x-python",
   "name": "python",
   "nbconvert_exporter": "python",
   "pygments_lexer": "ipython3",
   "version": "3.9.13"
  }
 },
 "nbformat": 4,
 "nbformat_minor": 5
}
